{
  "nbformat": 4,
  "nbformat_minor": 0,
  "metadata": {
    "colab": {
      "name": "Jestimate.ipynb",
      "provenance": [],
      "include_colab_link": true
    },
    "kernelspec": {
      "name": "python3",
      "display_name": "Python 3"
    }
  },
  "cells": [
    {
      "cell_type": "markdown",
      "metadata": {
        "id": "view-in-github",
        "colab_type": "text"
      },
      "source": [
        "<a href=\"https://colab.research.google.com/github/JimKing100/Jestimate/blob/master/Jestimate1.ipynb\" target=\"_parent\"><img src=\"https://colab.research.google.com/assets/colab-badge.svg\" alt=\"Open In Colab\"/></a>"
      ]
    },
    {
      "cell_type": "code",
      "metadata": {
        "id": "9oXi5disofZQ",
        "colab_type": "code",
        "outputId": "b17be18c-cd8e-46b7-9d3f-8cb81e06f8a3",
        "colab": {
          "base_uri": "https://localhost:8080/",
          "height": 204
        }
      },
      "source": [
        "import pandas as pd\n",
        "\n",
        "from bokeh.models import ColumnDataSource, TableColumn, DataTable, CDSView, GroupFilter\n",
        "from bokeh.layouts import column\n",
        "from bokeh.models.widgets import TextInput\n",
        "from bokeh.plotting import curdoc\n",
        "\n",
        "data = pd.read_csv('https://raw.githubusercontent.com/JimKing100/Jestimate/master/data/display_data.csv')\n",
        "data.head()"
      ],
      "execution_count": 63,
      "outputs": [
        {
          "output_type": "execute_result",
          "data": {
            "text/html": [
              "<div>\n",
              "<style scoped>\n",
              "    .dataframe tbody tr th:only-of-type {\n",
              "        vertical-align: middle;\n",
              "    }\n",
              "\n",
              "    .dataframe tbody tr th {\n",
              "        vertical-align: top;\n",
              "    }\n",
              "\n",
              "    .dataframe thead th {\n",
              "        text-align: right;\n",
              "    }\n",
              "</style>\n",
              "<table border=\"1\" class=\"dataframe\">\n",
              "  <thead>\n",
              "    <tr style=\"text-align: right;\">\n",
              "      <th></th>\n",
              "      <th>Unnamed: 0</th>\n",
              "      <th>full_address</th>\n",
              "      <th>neighborhood</th>\n",
              "      <th>sale_price</th>\n",
              "      <th>prediction</th>\n",
              "      <th>difference</th>\n",
              "    </tr>\n",
              "  </thead>\n",
              "  <tbody>\n",
              "    <tr>\n",
              "      <th>0</th>\n",
              "      <td>5</td>\n",
              "      <td>618 48th Ave, San Francisco, CA 94121-2410</td>\n",
              "      <td>1 - Outer Richmond</td>\n",
              "      <td>3310000</td>\n",
              "      <td>3793613</td>\n",
              "      <td>-483613</td>\n",
              "    </tr>\n",
              "    <tr>\n",
              "      <th>1</th>\n",
              "      <td>7</td>\n",
              "      <td>1434 La Playa St, San Francisco, CA 94122</td>\n",
              "      <td>2 - Outer Sunset</td>\n",
              "      <td>1304000</td>\n",
              "      <td>1229705</td>\n",
              "      <td>74294</td>\n",
              "    </tr>\n",
              "    <tr>\n",
              "      <th>2</th>\n",
              "      <td>9</td>\n",
              "      <td>1516 Great Highway, San Francisco, CA 94122</td>\n",
              "      <td>2 - Outer Sunset</td>\n",
              "      <td>1830000</td>\n",
              "      <td>1766170</td>\n",
              "      <td>63829</td>\n",
              "    </tr>\n",
              "    <tr>\n",
              "      <th>3</th>\n",
              "      <td>15</td>\n",
              "      <td>739 48th Ave, San Francisco, CA 94121-3209</td>\n",
              "      <td>1 - Outer Richmond</td>\n",
              "      <td>1650000</td>\n",
              "      <td>1581427</td>\n",
              "      <td>68572</td>\n",
              "    </tr>\n",
              "    <tr>\n",
              "      <th>4</th>\n",
              "      <td>17</td>\n",
              "      <td>1492 La Playa St, San Francisco, CA 94122</td>\n",
              "      <td>2 - Outer Sunset</td>\n",
              "      <td>1300000</td>\n",
              "      <td>1479364</td>\n",
              "      <td>-179364</td>\n",
              "    </tr>\n",
              "  </tbody>\n",
              "</table>\n",
              "</div>"
            ],
            "text/plain": [
              "   Unnamed: 0  ... difference\n",
              "0           5  ...    -483613\n",
              "1           7  ...      74294\n",
              "2           9  ...      63829\n",
              "3          15  ...      68572\n",
              "4          17  ...    -179364\n",
              "\n",
              "[5 rows x 6 columns]"
            ]
          },
          "metadata": {
            "tags": []
          },
          "execution_count": 63
        }
      ]
    },
    {
      "cell_type": "code",
      "metadata": {
        "id": "XUQeXG8pDqei",
        "colab_type": "code",
        "colab": {
          "base_uri": "https://localhost:8080/",
          "height": 204
        },
        "outputId": "66107a22-51db-4628-d06b-fcfe36e89ffd"
      },
      "source": [
        "data['full_address'] = data.apply(lambda x: x['full_address'].split(',')[0], axis=1)\n",
        "data.head()"
      ],
      "execution_count": 64,
      "outputs": [
        {
          "output_type": "execute_result",
          "data": {
            "text/html": [
              "<div>\n",
              "<style scoped>\n",
              "    .dataframe tbody tr th:only-of-type {\n",
              "        vertical-align: middle;\n",
              "    }\n",
              "\n",
              "    .dataframe tbody tr th {\n",
              "        vertical-align: top;\n",
              "    }\n",
              "\n",
              "    .dataframe thead th {\n",
              "        text-align: right;\n",
              "    }\n",
              "</style>\n",
              "<table border=\"1\" class=\"dataframe\">\n",
              "  <thead>\n",
              "    <tr style=\"text-align: right;\">\n",
              "      <th></th>\n",
              "      <th>Unnamed: 0</th>\n",
              "      <th>full_address</th>\n",
              "      <th>neighborhood</th>\n",
              "      <th>sale_price</th>\n",
              "      <th>prediction</th>\n",
              "      <th>difference</th>\n",
              "    </tr>\n",
              "  </thead>\n",
              "  <tbody>\n",
              "    <tr>\n",
              "      <th>0</th>\n",
              "      <td>5</td>\n",
              "      <td>618 48th Ave</td>\n",
              "      <td>1 - Outer Richmond</td>\n",
              "      <td>3310000</td>\n",
              "      <td>3793613</td>\n",
              "      <td>-483613</td>\n",
              "    </tr>\n",
              "    <tr>\n",
              "      <th>1</th>\n",
              "      <td>7</td>\n",
              "      <td>1434 La Playa St</td>\n",
              "      <td>2 - Outer Sunset</td>\n",
              "      <td>1304000</td>\n",
              "      <td>1229705</td>\n",
              "      <td>74294</td>\n",
              "    </tr>\n",
              "    <tr>\n",
              "      <th>2</th>\n",
              "      <td>9</td>\n",
              "      <td>1516 Great Highway</td>\n",
              "      <td>2 - Outer Sunset</td>\n",
              "      <td>1830000</td>\n",
              "      <td>1766170</td>\n",
              "      <td>63829</td>\n",
              "    </tr>\n",
              "    <tr>\n",
              "      <th>3</th>\n",
              "      <td>15</td>\n",
              "      <td>739 48th Ave</td>\n",
              "      <td>1 - Outer Richmond</td>\n",
              "      <td>1650000</td>\n",
              "      <td>1581427</td>\n",
              "      <td>68572</td>\n",
              "    </tr>\n",
              "    <tr>\n",
              "      <th>4</th>\n",
              "      <td>17</td>\n",
              "      <td>1492 La Playa St</td>\n",
              "      <td>2 - Outer Sunset</td>\n",
              "      <td>1300000</td>\n",
              "      <td>1479364</td>\n",
              "      <td>-179364</td>\n",
              "    </tr>\n",
              "  </tbody>\n",
              "</table>\n",
              "</div>"
            ],
            "text/plain": [
              "   Unnamed: 0        full_address  ... prediction  difference\n",
              "0           5        618 48th Ave  ...    3793613     -483613\n",
              "1           7    1434 La Playa St  ...    1229705       74294\n",
              "2           9  1516 Great Highway  ...    1766170       63829\n",
              "3          15        739 48th Ave  ...    1581427       68572\n",
              "4          17    1492 La Playa St  ...    1479364     -179364\n",
              "\n",
              "[5 rows x 6 columns]"
            ]
          },
          "metadata": {
            "tags": []
          },
          "execution_count": 64
        }
      ]
    },
    {
      "cell_type": "code",
      "metadata": {
        "id": "6QH1VRMsv4sP",
        "colab_type": "code",
        "colab": {}
      },
      "source": [
        "source = ColumnDataSource(data)\n",
        "hood = '1 - Outer Richmond'\n",
        "view1 = CDSView(source=source, filters=[GroupFilter(column_name='neighborhood', group=hood)])\n",
        "\n",
        "columns = [TableColumn(field = 'full_address', title = 'Address')]\n",
        "\n",
        "data_table = DataTable(source = source, view = view1, columns = columns, width = 280, height = 280, editable = False)\n",
        "table_address = TextInput(value = '', title = 'Address')\n",
        "table_actual = TextInput(value = '', title = 'Actual Sale Price')\n",
        "table_predicted = TextInput(value = '', title = 'Predicted Sale Price')\n",
        "table_diff = TextInput(value = '', title = 'Difference')\n",
        "\n",
        "def function_source(attr, old, new):\n",
        "    try:\n",
        "        selected_index = source.selected.indices[0]\n",
        "        table_address.value = str(source.data['full_address'][selected_index])\n",
        "        table_actual.value = '${:,}'.format((source.data['sale_price'][selected_index]))\n",
        "        table_predicted.value = '${:,}'.format((source.data['prediction'][selected_index]))\n",
        "        table_diff.value = '${:,}'.format(source.data['difference'][selected_index])\n",
        "    except IndexError:\n",
        "        pass\n",
        "\n",
        "source.selected.on_change('indices', function_source)\n",
        "curdoc().add_root(column(data_table, table_address, table_actual, table_predicted, table_diff))"
      ],
      "execution_count": 0,
      "outputs": []
    }
  ]
}