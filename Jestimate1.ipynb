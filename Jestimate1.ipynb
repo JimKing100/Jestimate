{
  "nbformat": 4,
  "nbformat_minor": 0,
  "metadata": {
    "colab": {
      "name": "Jestimate.ipynb",
      "provenance": [],
      "include_colab_link": true
    },
    "kernelspec": {
      "name": "python3",
      "display_name": "Python 3"
    }
  },
  "cells": [
    {
      "cell_type": "markdown",
      "metadata": {
        "id": "view-in-github",
        "colab_type": "text"
      },
      "source": [
        "<a href=\"https://colab.research.google.com/github/JimKing100/Jestimate/blob/master/Jestimate1.ipynb\" target=\"_parent\"><img src=\"https://colab.research.google.com/assets/colab-badge.svg\" alt=\"Open In Colab\"/></a>"
      ]
    },
    {
      "cell_type": "code",
      "metadata": {
        "id": "9oXi5disofZQ",
        "colab_type": "code",
        "outputId": "5c1b1950-ca29-497a-b207-e59da5afa9e7",
        "colab": {
          "base_uri": "https://localhost:8080/",
          "height": 204
        }
      },
      "source": [
        "import pandas as pd\n",
        "\n",
        "from bokeh.models import ColumnDataSource, TableColumn, DataTable\n",
        "from bokeh.layouts import column\n",
        "from bokeh.models.widgets import TextInput\n",
        "from bokeh.plotting import curdoc\n",
        "\n",
        "data = pd.read_csv('https://raw.githubusercontent.com/JimKing100/Jestimate/master/data/display_data.csv')\n",
        "data.head()"
      ],
      "execution_count": 3,
      "outputs": [
        {
          "output_type": "execute_result",
          "data": {
            "text/html": [
              "<div>\n",
              "<style scoped>\n",
              "    .dataframe tbody tr th:only-of-type {\n",
              "        vertical-align: middle;\n",
              "    }\n",
              "\n",
              "    .dataframe tbody tr th {\n",
              "        vertical-align: top;\n",
              "    }\n",
              "\n",
              "    .dataframe thead th {\n",
              "        text-align: right;\n",
              "    }\n",
              "</style>\n",
              "<table border=\"1\" class=\"dataframe\">\n",
              "  <thead>\n",
              "    <tr style=\"text-align: right;\">\n",
              "      <th></th>\n",
              "      <th>Unnamed: 0</th>\n",
              "      <th>full_address</th>\n",
              "      <th>neighborhood</th>\n",
              "      <th>sale_price</th>\n",
              "      <th>prediction</th>\n",
              "      <th>difference</th>\n",
              "    </tr>\n",
              "  </thead>\n",
              "  <tbody>\n",
              "    <tr>\n",
              "      <th>0</th>\n",
              "      <td>5</td>\n",
              "      <td>618 48th Ave, San Francisco, CA 94121-2410</td>\n",
              "      <td>1 - Outer Richmond</td>\n",
              "      <td>3310000</td>\n",
              "      <td>3793613</td>\n",
              "      <td>-483613</td>\n",
              "    </tr>\n",
              "    <tr>\n",
              "      <th>1</th>\n",
              "      <td>7</td>\n",
              "      <td>1434 La Playa St, San Francisco, CA 94122</td>\n",
              "      <td>2 - Outer Sunset</td>\n",
              "      <td>1304000</td>\n",
              "      <td>1229705</td>\n",
              "      <td>74294</td>\n",
              "    </tr>\n",
              "    <tr>\n",
              "      <th>2</th>\n",
              "      <td>9</td>\n",
              "      <td>1516 Great Highway, San Francisco, CA 94122</td>\n",
              "      <td>2 - Outer Sunset</td>\n",
              "      <td>1830000</td>\n",
              "      <td>1766170</td>\n",
              "      <td>63829</td>\n",
              "    </tr>\n",
              "    <tr>\n",
              "      <th>3</th>\n",
              "      <td>15</td>\n",
              "      <td>739 48th Ave, San Francisco, CA 94121-3209</td>\n",
              "      <td>1 - Outer Richmond</td>\n",
              "      <td>1650000</td>\n",
              "      <td>1581427</td>\n",
              "      <td>68572</td>\n",
              "    </tr>\n",
              "    <tr>\n",
              "      <th>4</th>\n",
              "      <td>17</td>\n",
              "      <td>1492 La Playa St, San Francisco, CA 94122</td>\n",
              "      <td>2 - Outer Sunset</td>\n",
              "      <td>1300000</td>\n",
              "      <td>1479364</td>\n",
              "      <td>-179364</td>\n",
              "    </tr>\n",
              "  </tbody>\n",
              "</table>\n",
              "</div>"
            ],
            "text/plain": [
              "   Unnamed: 0  ... difference\n",
              "0           5  ...    -483613\n",
              "1           7  ...      74294\n",
              "2           9  ...      63829\n",
              "3          15  ...      68572\n",
              "4          17  ...    -179364\n",
              "\n",
              "[5 rows x 6 columns]"
            ]
          },
          "metadata": {
            "tags": []
          },
          "execution_count": 3
        }
      ]
    },
    {
      "cell_type": "code",
      "metadata": {
        "id": "6QH1VRMsv4sP",
        "colab_type": "code",
        "colab": {}
      },
      "source": [
        "source = ColumnDataSource(data)\n",
        "\n",
        "columns = [TableColumn(field = \"full_address\", title = \"Address\")]\n",
        "\n",
        "data_table = DataTable(source = source, columns = columns, width = 280, height = 280, editable = False)\n",
        "table_row = TextInput(value = '', title = \"Row index:\")\n",
        "table_cell_column_1 = TextInput(value = '', title = \"Address\")\n",
        "\n",
        "def function_source(attr, old, new):\n",
        "    try:\n",
        "        selected_index = source.selected.indices[0]\n",
        "        table_row.value = str(selected_index)\n",
        "        table_cell_column_1.value = str(source.data[\"full_address\"][selected_index])\n",
        "    except IndexError:\n",
        "        pass\n",
        "\n",
        "source.selected.on_change('indices', function_source)\n",
        "curdoc().add_root(column(data_table, table_row, table_cell_column_1))"
      ],
      "execution_count": 0,
      "outputs": []
    }
  ]
}