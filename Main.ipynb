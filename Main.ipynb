{
  "nbformat": 4,
  "nbformat_minor": 0,
  "metadata": {
    "colab": {
      "name": "Untitled28.ipynb",
      "provenance": [],
      "include_colab_link": true
    },
    "kernelspec": {
      "name": "python3",
      "display_name": "Python 3"
    }
  },
  "cells": [
    {
      "cell_type": "markdown",
      "metadata": {
        "id": "view-in-github",
        "colab_type": "text"
      },
      "source": [
        "<a href=\"https://colab.research.google.com/github/JimKing100/Jestimate/blob/master/Main.ipynb\" target=\"_parent\"><img src=\"https://colab.research.google.com/assets/colab-badge.svg\" alt=\"Open In Colab\"/></a>"
      ]
    },
    {
      "cell_type": "code",
      "metadata": {
        "id": "ZqnZfcZ6E0Ca",
        "colab_type": "code",
        "colab": {}
      },
      "source": [
        "# Import libraries\n",
        "import pandas as pd\n",
        "import numpy as np\n",
        "\n",
        "from datetime import datetime"
      ],
      "execution_count": 0,
      "outputs": []
    },
    {
      "cell_type": "code",
      "metadata": {
        "id": "sWBdL86GDCKu",
        "colab_type": "code",
        "colab": {
          "base_uri": "https://localhost:8080/",
          "height": 496
        },
        "outputId": "6ce7cf0c-103d-4055-96c8-90645d0b2b2d"
      },
      "source": [
        "# Load SF real estate data - 10 years (2009-2018) of single family home sales in San Francisco downloaded from the SF MLS\n",
        "# Longitude and latitude were added to the csv file prior to loading using geocoding.geo.census.gov \n",
        "df = pd.read_csv('https://raw.githubusercontent.com/JimKing100/Jestimate/master/data/SF-SFR-Sales-Final2d.csv')\n",
        "\n",
        "# Rename subdistr_desc to neighborhood\n",
        "df = df.rename(columns={'subdist_desc': 'neighborhood'})\n",
        "\n",
        "# Check the data\n",
        "print(df.shape)\n",
        "df.head(5)"
      ],
      "execution_count": 28,
      "outputs": [
        {
          "output_type": "stream",
          "text": [
            "(23711, 39)\n"
          ],
          "name": "stdout"
        },
        {
          "output_type": "stream",
          "text": [
            "/usr/local/lib/python3.6/dist-packages/IPython/core/interactiveshell.py:2718: DtypeWarning: Columns (9) have mixed types. Specify dtype option on import or set low_memory=False.\n",
            "  interactivity=interactivity, compiler=compiler, result=result)\n"
          ],
          "name": "stderr"
        },
        {
          "output_type": "execute_result",
          "data": {
            "text/html": [
              "<div>\n",
              "<style scoped>\n",
              "    .dataframe tbody tr th:only-of-type {\n",
              "        vertical-align: middle;\n",
              "    }\n",
              "\n",
              "    .dataframe tbody tr th {\n",
              "        vertical-align: top;\n",
              "    }\n",
              "\n",
              "    .dataframe thead th {\n",
              "        text-align: right;\n",
              "    }\n",
              "</style>\n",
              "<table border=\"1\" class=\"dataframe\">\n",
              "  <thead>\n",
              "    <tr style=\"text-align: right;\">\n",
              "      <th></th>\n",
              "      <th>longitude</th>\n",
              "      <th>latitude</th>\n",
              "      <th>elevation</th>\n",
              "      <th>full_address</th>\n",
              "      <th>city</th>\n",
              "      <th>state</th>\n",
              "      <th>street_no</th>\n",
              "      <th>street_name</th>\n",
              "      <th>street_suffix</th>\n",
              "      <th>zip</th>\n",
              "      <th>area</th>\n",
              "      <th>district_no</th>\n",
              "      <th>district_desc</th>\n",
              "      <th>subdist_no</th>\n",
              "      <th>neighborhood</th>\n",
              "      <th>on_market_date</th>\n",
              "      <th>cdom</th>\n",
              "      <th>orig_list_price</th>\n",
              "      <th>sale_date</th>\n",
              "      <th>sale_price</th>\n",
              "      <th>rooms</th>\n",
              "      <th>baths</th>\n",
              "      <th>beds</th>\n",
              "      <th>sf_source</th>\n",
              "      <th>sf_source_decs</th>\n",
              "      <th>sf</th>\n",
              "      <th>lot_acres</th>\n",
              "      <th>lot_sf</th>\n",
              "      <th>year_built</th>\n",
              "      <th>zoning</th>\n",
              "      <th>lot_desc</th>\n",
              "      <th>drive_side</th>\n",
              "      <th>parking</th>\n",
              "      <th>park_leased</th>\n",
              "      <th>num_parking</th>\n",
              "      <th>shopping</th>\n",
              "      <th>transportation</th>\n",
              "      <th>type</th>\n",
              "      <th>views</th>\n",
              "    </tr>\n",
              "  </thead>\n",
              "  <tbody>\n",
              "    <tr>\n",
              "      <th>0</th>\n",
              "      <td>-122.50965</td>\n",
              "      <td>37.780280</td>\n",
              "      <td>200.83</td>\n",
              "      <td>2645 El Camino Del Mar, San Francisco, CA 94121</td>\n",
              "      <td>San Francisco</td>\n",
              "      <td>CA</td>\n",
              "      <td>2645</td>\n",
              "      <td>El Camino Del Mar</td>\n",
              "      <td>NaN</td>\n",
              "      <td>94121</td>\n",
              "      <td>1050</td>\n",
              "      <td>1</td>\n",
              "      <td>SF District 1</td>\n",
              "      <td>1050</td>\n",
              "      <td>1 - Outer Richmond</td>\n",
              "      <td>03/14/13</td>\n",
              "      <td>4</td>\n",
              "      <td>1095000</td>\n",
              "      <td>03/22/13</td>\n",
              "      <td>1260000</td>\n",
              "      <td>8</td>\n",
              "      <td>3.5</td>\n",
              "      <td>4</td>\n",
              "      <td>T</td>\n",
              "      <td>Per Tax Records</td>\n",
              "      <td>2691</td>\n",
              "      <td>NaN</td>\n",
              "      <td>0</td>\n",
              "      <td>1969</td>\n",
              "      <td>RH2</td>\n",
              "      <td>RGLR,FNCD</td>\n",
              "      <td>PVDW,PVSW</td>\n",
              "      <td>ATCH,GARG</td>\n",
              "      <td>0</td>\n",
              "      <td>2</td>\n",
              "      <td>4BLK</td>\n",
              "      <td>1BLK</td>\n",
              "      <td>3STR</td>\n",
              "      <td>PNRM,OCEN,PARK,GRDN</td>\n",
              "    </tr>\n",
              "    <tr>\n",
              "      <th>1</th>\n",
              "      <td>-122.50929</td>\n",
              "      <td>37.762608</td>\n",
              "      <td>23.21</td>\n",
              "      <td>1278 La Playa St, San Francisco, CA 94122</td>\n",
              "      <td>San Francisco</td>\n",
              "      <td>CA</td>\n",
              "      <td>1278</td>\n",
              "      <td>La Playa</td>\n",
              "      <td>St</td>\n",
              "      <td>94122</td>\n",
              "      <td>2030</td>\n",
              "      <td>2</td>\n",
              "      <td>SF District 2</td>\n",
              "      <td>2030</td>\n",
              "      <td>2 - Outer Sunset</td>\n",
              "      <td>12/03/15</td>\n",
              "      <td>144</td>\n",
              "      <td>1250000</td>\n",
              "      <td>04/25/16</td>\n",
              "      <td>1075000</td>\n",
              "      <td>9</td>\n",
              "      <td>3.0</td>\n",
              "      <td>4</td>\n",
              "      <td>T</td>\n",
              "      <td>Per Tax Records</td>\n",
              "      <td>2437</td>\n",
              "      <td>0.0689</td>\n",
              "      <td>3000</td>\n",
              "      <td>1947</td>\n",
              "      <td>RM1</td>\n",
              "      <td>RGLR</td>\n",
              "      <td>0</td>\n",
              "      <td>ATCH,GARG,ATDR,INAC</td>\n",
              "      <td>ONST</td>\n",
              "      <td>1</td>\n",
              "      <td>2BLK</td>\n",
              "      <td>1BLK</td>\n",
              "      <td>0</td>\n",
              "      <td>0</td>\n",
              "    </tr>\n",
              "    <tr>\n",
              "      <th>2</th>\n",
              "      <td>-122.50929</td>\n",
              "      <td>37.762608</td>\n",
              "      <td>23.21</td>\n",
              "      <td>1278 La Playa St, San Francisco, CA 94122</td>\n",
              "      <td>San Francisco</td>\n",
              "      <td>CA</td>\n",
              "      <td>1278</td>\n",
              "      <td>La Playa</td>\n",
              "      <td>St</td>\n",
              "      <td>94122</td>\n",
              "      <td>2030</td>\n",
              "      <td>2</td>\n",
              "      <td>SF District 2</td>\n",
              "      <td>2030</td>\n",
              "      <td>2 - Outer Sunset</td>\n",
              "      <td>05/18/17</td>\n",
              "      <td>36</td>\n",
              "      <td>1395000</td>\n",
              "      <td>08/17/17</td>\n",
              "      <td>1525000</td>\n",
              "      <td>9</td>\n",
              "      <td>5.0</td>\n",
              "      <td>5</td>\n",
              "      <td>D</td>\n",
              "      <td>Per Architect</td>\n",
              "      <td>2597</td>\n",
              "      <td>0.0689</td>\n",
              "      <td>3000</td>\n",
              "      <td>1947</td>\n",
              "      <td>RM1</td>\n",
              "      <td>RGLR</td>\n",
              "      <td>0</td>\n",
              "      <td>ATCH,GARG,ATDR,INAC</td>\n",
              "      <td>ONST</td>\n",
              "      <td>1</td>\n",
              "      <td>2BLK</td>\n",
              "      <td>1BLK</td>\n",
              "      <td>0</td>\n",
              "      <td>0</td>\n",
              "    </tr>\n",
              "    <tr>\n",
              "      <th>3</th>\n",
              "      <td>-122.50924</td>\n",
              "      <td>37.777330</td>\n",
              "      <td>189.11</td>\n",
              "      <td>590 48th Ave, San Francisco, CA 94121</td>\n",
              "      <td>San Francisco</td>\n",
              "      <td>CA</td>\n",
              "      <td>590</td>\n",
              "      <td>48th</td>\n",
              "      <td>Ave</td>\n",
              "      <td>94121</td>\n",
              "      <td>1050</td>\n",
              "      <td>1</td>\n",
              "      <td>SF District 1</td>\n",
              "      <td>1050</td>\n",
              "      <td>1 - Outer Richmond</td>\n",
              "      <td>06/27/10</td>\n",
              "      <td>42</td>\n",
              "      <td>725000</td>\n",
              "      <td>08/20/10</td>\n",
              "      <td>715000</td>\n",
              "      <td>5</td>\n",
              "      <td>1.0</td>\n",
              "      <td>2</td>\n",
              "      <td>T</td>\n",
              "      <td>Per Tax Records</td>\n",
              "      <td>1312</td>\n",
              "      <td>NaN</td>\n",
              "      <td>0</td>\n",
              "      <td>1939</td>\n",
              "      <td>RH1</td>\n",
              "      <td>RGLR</td>\n",
              "      <td>PVDW,PVSW</td>\n",
              "      <td>GARG</td>\n",
              "      <td>0</td>\n",
              "      <td>2</td>\n",
              "      <td>3BLK</td>\n",
              "      <td>1BLK</td>\n",
              "      <td>ATAC,2STR,FIXR</td>\n",
              "      <td>WATR,OCEN,PARK</td>\n",
              "    </tr>\n",
              "    <tr>\n",
              "      <th>4</th>\n",
              "      <td>-122.50919</td>\n",
              "      <td>37.776695</td>\n",
              "      <td>175.89</td>\n",
              "      <td>618 48th Ave, San Francisco, CA 94121</td>\n",
              "      <td>San Francisco</td>\n",
              "      <td>CA</td>\n",
              "      <td>618</td>\n",
              "      <td>48th</td>\n",
              "      <td>Ave</td>\n",
              "      <td>94121</td>\n",
              "      <td>1050</td>\n",
              "      <td>1</td>\n",
              "      <td>SF District 1</td>\n",
              "      <td>1050</td>\n",
              "      <td>1 - Outer Richmond</td>\n",
              "      <td>06/07/12</td>\n",
              "      <td>24</td>\n",
              "      <td>1595000</td>\n",
              "      <td>07/13/12</td>\n",
              "      <td>1595000</td>\n",
              "      <td>8</td>\n",
              "      <td>4.0</td>\n",
              "      <td>4</td>\n",
              "      <td>T</td>\n",
              "      <td>Per Tax Records</td>\n",
              "      <td>3307</td>\n",
              "      <td>NaN</td>\n",
              "      <td>0</td>\n",
              "      <td>1951</td>\n",
              "      <td>NaN</td>\n",
              "      <td>RGLR</td>\n",
              "      <td>PVDW</td>\n",
              "      <td>ATCH,GARG,ATDR,INAC</td>\n",
              "      <td>0</td>\n",
              "      <td>3</td>\n",
              "      <td>4BLK</td>\n",
              "      <td>2BLK</td>\n",
              "      <td>3STR</td>\n",
              "      <td>PNRM,CTYL,OCEN,PARK</td>\n",
              "    </tr>\n",
              "  </tbody>\n",
              "</table>\n",
              "</div>"
            ],
            "text/plain": [
              "   longitude   latitude  ...            type                views\n",
              "0 -122.50965  37.780280  ...            3STR  PNRM,OCEN,PARK,GRDN\n",
              "1 -122.50929  37.762608  ...               0                    0\n",
              "2 -122.50929  37.762608  ...               0                    0\n",
              "3 -122.50924  37.777330  ...  ATAC,2STR,FIXR       WATR,OCEN,PARK\n",
              "4 -122.50919  37.776695  ...            3STR  PNRM,CTYL,OCEN,PARK\n",
              "\n",
              "[5 rows x 39 columns]"
            ]
          },
          "metadata": {
            "tags": []
          },
          "execution_count": 28
        }
      ]
    },
    {
      "cell_type": "code",
      "metadata": {
        "id": "ynFcg7GtGczJ",
        "colab_type": "code",
        "colab": {
          "base_uri": "https://localhost:8080/",
          "height": 697
        },
        "outputId": "f5a87b60-93c8-4d7a-ef8b-62e34b7b1cc8"
      },
      "source": [
        "# Check for nulls\n",
        "df.isnull().sum()"
      ],
      "execution_count": 29,
      "outputs": [
        {
          "output_type": "execute_result",
          "data": {
            "text/plain": [
              "longitude            469\n",
              "latitude             469\n",
              "elevation            469\n",
              "full_address           0\n",
              "city                   0\n",
              "state                  0\n",
              "street_no              0\n",
              "street_name            0\n",
              "street_suffix       1613\n",
              "zip                    0\n",
              "area                   0\n",
              "district_no            0\n",
              "district_desc          0\n",
              "subdist_no             0\n",
              "neighborhood           0\n",
              "on_market_date         0\n",
              "cdom                   0\n",
              "orig_list_price        0\n",
              "sale_date              0\n",
              "sale_price             0\n",
              "rooms                  0\n",
              "baths                  0\n",
              "beds                   0\n",
              "sf_source              0\n",
              "sf_source_decs         0\n",
              "sf                     0\n",
              "lot_acres          13379\n",
              "lot_sf                 0\n",
              "year_built             0\n",
              "zoning             10880\n",
              "lot_desc               0\n",
              "drive_side             0\n",
              "parking                0\n",
              "park_leased            0\n",
              "num_parking            0\n",
              "shopping               0\n",
              "transportation         0\n",
              "type                   0\n",
              "views                  0\n",
              "dtype: int64"
            ]
          },
          "metadata": {
            "tags": []
          },
          "execution_count": 29
        }
      ]
    },
    {
      "cell_type": "code",
      "metadata": {
        "id": "6PkY-9YzHt91",
        "colab_type": "code",
        "colab": {
          "base_uri": "https://localhost:8080/",
          "height": 697
        },
        "outputId": "dfbcd742-0e71-4d24-f7a9-957d5234f29f"
      },
      "source": [
        "# Check for zeros\n",
        "(df == 0).sum()"
      ],
      "execution_count": 30,
      "outputs": [
        {
          "output_type": "execute_result",
          "data": {
            "text/plain": [
              "longitude              0\n",
              "latitude               0\n",
              "elevation              0\n",
              "full_address           0\n",
              "city                   0\n",
              "state                  0\n",
              "street_no              0\n",
              "street_name            0\n",
              "street_suffix          0\n",
              "zip                    0\n",
              "area                   0\n",
              "district_no            0\n",
              "district_desc          0\n",
              "subdist_no             0\n",
              "neighborhood           0\n",
              "on_market_date         0\n",
              "cdom                 806\n",
              "orig_list_price        0\n",
              "sale_date              0\n",
              "sale_price             0\n",
              "rooms               7251\n",
              "baths                 26\n",
              "beds                 141\n",
              "sf_source              0\n",
              "sf_source_decs         0\n",
              "sf                  3781\n",
              "lot_acres              1\n",
              "lot_sf             13404\n",
              "year_built          1409\n",
              "zoning                 0\n",
              "lot_desc               0\n",
              "drive_side             0\n",
              "parking                0\n",
              "park_leased            0\n",
              "num_parking         1412\n",
              "shopping               0\n",
              "transportation         0\n",
              "type                   0\n",
              "views                  0\n",
              "dtype: int64"
            ]
          },
          "metadata": {
            "tags": []
          },
          "execution_count": 30
        }
      ]
    },
    {
      "cell_type": "code",
      "metadata": {
        "id": "P3J0bgv9I60L",
        "colab_type": "code",
        "colab": {
          "base_uri": "https://localhost:8080/",
          "height": 34
        },
        "outputId": "7afc0d68-0d75-4785-e6c0-d32ec87b023f"
      },
      "source": [
        "# Baseline of sale_price\n",
        "df['sale_price'].mean()"
      ],
      "execution_count": 31,
      "outputs": [
        {
          "output_type": "execute_result",
          "data": {
            "text/plain": [
              "1371454.081312471"
            ]
          },
          "metadata": {
            "tags": []
          },
          "execution_count": 31
        }
      ]
    },
    {
      "cell_type": "code",
      "metadata": {
        "id": "Yn0GPWPFJNKj",
        "colab_type": "code",
        "colab": {
          "base_uri": "https://localhost:8080/",
          "height": 51
        },
        "outputId": "c36dcf52-d533-4b07-b391-4560e3eaba46"
      },
      "source": [
        "# Train, test split on date of 01/01/2018\n",
        "df['sale_date'] = pd.to_datetime(df['sale_date'], infer_datetime_format=True)\n",
        "cutoff = pd.to_datetime('2018-01-01')\n",
        "train = df[df['sale_date'] < cutoff]\n",
        "test  = df[df['sale_date'] >= cutoff]\n",
        "\n",
        "print(train.shape)\n",
        "print(test.shape)"
      ],
      "execution_count": 33,
      "outputs": [
        {
          "output_type": "stream",
          "text": [
            "(21487, 39)\n",
            "(2224, 39)\n"
          ],
          "name": "stdout"
        }
      ]
    }
  ]
}