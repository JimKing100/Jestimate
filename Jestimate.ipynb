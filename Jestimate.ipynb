{
  "nbformat": 4,
  "nbformat_minor": 0,
  "metadata": {
    "colab": {
      "name": "Jestimate.ipynb",
      "version": "0.3.2",
      "provenance": [],
      "include_colab_link": true
    },
    "kernelspec": {
      "name": "python3",
      "display_name": "Python 3"
    }
  },
  "cells": [
    {
      "cell_type": "markdown",
      "metadata": {
        "id": "view-in-github",
        "colab_type": "text"
      },
      "source": [
        "<a href=\"https://colab.research.google.com/github/JimKing100/Jestimate/blob/master/Jestimate.ipynb\" target=\"_parent\"><img src=\"https://colab.research.google.com/assets/colab-badge.svg\" alt=\"Open In Colab\"/></a>"
      ]
    },
    {
      "cell_type": "code",
      "metadata": {
        "id": "9oXi5disofZQ",
        "colab_type": "code",
        "colab": {
          "base_uri": "https://localhost:8080/",
          "height": 204
        },
        "outputId": "c5007a9b-d857-4162-fd59-60d97b81e6b2"
      },
      "source": [
        "import pandas as pd\n",
        "\n",
        "from bokeh.models import ColumnDataSource, TableColumn, DataTable\n",
        "from bokeh.layouts import column\n",
        "from bokeh.models.widgets import TextInput\n",
        "from bokeh.plotting import curdoc\n",
        "\n",
        "initial_data = pd.read_csv('https://raw.githubusercontent.com/JimKing100/SF_Real_Estate_Live/master/data/SF-SFR-Sales-Final1.csv')\n",
        "data = initial_data.loc[:,['full_address']]\n",
        "data = data.drop_duplicates()\n",
        "\n",
        "data.head()"
      ],
      "execution_count": 16,
      "outputs": [
        {
          "output_type": "execute_result",
          "data": {
            "text/html": [
              "<div>\n",
              "<style scoped>\n",
              "    .dataframe tbody tr th:only-of-type {\n",
              "        vertical-align: middle;\n",
              "    }\n",
              "\n",
              "    .dataframe tbody tr th {\n",
              "        vertical-align: top;\n",
              "    }\n",
              "\n",
              "    .dataframe thead th {\n",
              "        text-align: right;\n",
              "    }\n",
              "</style>\n",
              "<table border=\"1\" class=\"dataframe\">\n",
              "  <thead>\n",
              "    <tr style=\"text-align: right;\">\n",
              "      <th></th>\n",
              "      <th>full_address</th>\n",
              "    </tr>\n",
              "  </thead>\n",
              "  <tbody>\n",
              "    <tr>\n",
              "      <th>0</th>\n",
              "      <td>1878 10th Ave, San Francisco, CA 94122-4602</td>\n",
              "    </tr>\n",
              "    <tr>\n",
              "      <th>1</th>\n",
              "      <td>1842 10th Ave, San Francisco, CA 94122-4602</td>\n",
              "    </tr>\n",
              "    <tr>\n",
              "      <th>2</th>\n",
              "      <td>1829 10th Ave, San Francisco, CA 94122</td>\n",
              "    </tr>\n",
              "    <tr>\n",
              "      <th>3</th>\n",
              "      <td>1612 10th Ave, San Francisco, CA 94122</td>\n",
              "    </tr>\n",
              "    <tr>\n",
              "      <th>4</th>\n",
              "      <td>1671 10th Ave, San Francisco, CA 94122</td>\n",
              "    </tr>\n",
              "  </tbody>\n",
              "</table>\n",
              "</div>"
            ],
            "text/plain": [
              "                                  full_address\n",
              "0  1878 10th Ave, San Francisco, CA 94122-4602\n",
              "1  1842 10th Ave, San Francisco, CA 94122-4602\n",
              "2       1829 10th Ave, San Francisco, CA 94122\n",
              "3       1612 10th Ave, San Francisco, CA 94122\n",
              "4       1671 10th Ave, San Francisco, CA 94122"
            ]
          },
          "metadata": {
            "tags": []
          },
          "execution_count": 16
        }
      ]
    },
    {
      "cell_type": "code",
      "metadata": {
        "id": "6QH1VRMsv4sP",
        "colab_type": "code",
        "colab": {}
      },
      "source": [
        "source = ColumnDataSource(data)\n",
        "\n",
        "columns = [TableColumn(field = \"full_address\", title = \"Address\")]\n",
        "\n",
        "data_table = DataTable(source = source, columns = columns, width = 280, height = 280, editable = False)\n",
        "table_row = TextInput(value = '', title = \"Row index:\")\n",
        "table_cell_column_1 = TextInput(value = '', title = \"Address\")\n",
        "\n",
        "def function_source(attr, old, new):\n",
        "    try:\n",
        "        selected_index = source.selected.indices[0]\n",
        "        table_row.value = str(selected_index)\n",
        "        table_cell_column_1.value = str(source.data[\"full_address\"][selected_index])\n",
        "    except IndexError:\n",
        "        pass\n",
        "\n",
        "source.selected.on_change('indices', function_source)\n",
        "curdoc().add_root(column(data_table, table_row, table_cell_column_1))"
      ],
      "execution_count": 0,
      "outputs": []
    }
  ]
}