{
  "nbformat": 4,
  "nbformat_minor": 0,
  "metadata": {
    "colab": {
      "name": "Jestimate.ipynb",
      "version": "0.3.2",
      "provenance": [],
      "include_colab_link": true
    },
    "kernelspec": {
      "name": "python3",
      "display_name": "Python 3"
    }
  },
  "cells": [
    {
      "cell_type": "markdown",
      "metadata": {
        "id": "view-in-github",
        "colab_type": "text"
      },
      "source": [
        "<a href=\"https://colab.research.google.com/github/JimKing100/Jestimate/blob/master/Jestimate.ipynb\" target=\"_parent\"><img src=\"https://colab.research.google.com/assets/colab-badge.svg\" alt=\"Open In Colab\"/></a>"
      ]
    },
    {
      "cell_type": "code",
      "metadata": {
        "id": "9oXi5disofZQ",
        "colab_type": "code",
        "colab": {}
      },
      "source": [
        "from random import randint\n",
        "from datetime import date\n",
        "from bokeh.models import ColumnDataSource, TableColumn, DateFormatter, DataTable\n",
        "from bokeh.layouts import column\n",
        "from bokeh.models.widgets import TextInput\n",
        "from bokeh.plotting import curdoc\n",
        "\n",
        "data = dict(dates = [date(2014, 3, i + 1) for i in range(10)],\n",
        "            downloads = [randint(0, 100) for i in range(10)],\n",
        "            identities = ['id_' + str(x) for x in range(10)])\n",
        "\n",
        "source = ColumnDataSource(data)\n",
        "\n",
        "columns = [TableColumn(field = \"dates\", title = \"Date\",\n",
        "           formatter = DateFormatter()),\n",
        "           TableColumn(field = \"downloads\", title = \"Downloads\")]\n",
        "\n",
        "data_table = DataTable(source = source, columns = columns, width = 280, height = 280, editable = True)\n",
        "table_row = TextInput(value = '', title = \"Row index:\")\n",
        "table_cell_column_1 = TextInput(value = '', title = \"Date:\")\n",
        "table_cell_column_2 = TextInput(value = '', title = \"Downloads:\")\n",
        "\n",
        "def function_source(attr, old, new):\n",
        "    try:\n",
        "        selected_index = source.selected.indices[0]\n",
        "        table_row.value = str(selected_index)\n",
        "        table_cell_column_1.value = str(source.data[\"dates\"][selected_index])\n",
        "        table_cell_column_2.value = str(source.data[\"downloads\"][selected_index])\n",
        "    except IndexError:\n",
        "        pass\n",
        "\n",
        "source.selected.on_change('indices', function_source)\n",
        "curdoc().add_root(column(data_table, table_row, table_cell_column_1, table_cell_column_2))"
      ],
      "execution_count": 0,
      "outputs": []
    }
  ]
}